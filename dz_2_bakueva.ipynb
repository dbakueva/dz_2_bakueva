{
 "cells": [
  {
   "cell_type": "markdown",
   "id": "ca3e653e",
   "metadata": {},
   "source": [
    "# Домашняя работа 2  \n"
   ]
  },
  {
   "cell_type": "markdown",
   "id": "4ad944d1",
   "metadata": {},
   "source": [
    "Для работы 2 я планирую использовать тот же датасет, что и в предыдущем домашнем задании.  \n",
    "В результате работы с данными были удалены пропущенные переменные, так как их доля была очень мала, были преобразованы многие переменные: "
   ]
  },
  {
   "cell_type": "markdown",
   "id": "b5b45534",
   "metadata": {},
   "source": [
    "   1. Дата рождения была приобразована в Возраст **Age**  \n",
    "   2. Создана категориальная переменная уровня Дохода **Income**  \n",
    "   3. Создана категориальная переменная уровня Образования **Education**  \n",
    "   4. Создана категориальная переменная Семейного положения **Marital_Status**      \n",
    "   5. Создана бинарная переменная Подверженности промо **Easy_promo**  \n",
    "   6. Переменная Продаж **Sales** осталась неизменной  \n",
    "   7. Добавлена переменная логарифма дохода **log_Income**  \n"
   ]
  },
  {
   "cell_type": "markdown",
   "id": "0020effa",
   "metadata": {},
   "source": [
    "Перед началом работы над ДЗ 2, был исправлены ошибки в переменной Easy_promo, в которой некорректно отображались значения ( переменная принемала тоько 0 значения, а должна 1 - если респондент реагировал на промо хотя бы один раз, 0 - в противном случае) "
   ]
  },
  {
   "cell_type": "markdown",
   "id": "60955774",
   "metadata": {},
   "source": [
    "## Описание данных \n",
    "Опишем имеющиеся в нашем финальном датасете переменные  \n",
    "### Люди \n",
    "**Age** - возраст клиента  \n",
    "**Education** - уровень образования клиента  \n",
    "**Marital_Status** - семейное положение клиента  \n",
    "**Income** - годовой доход семьи клиента  \n",
    "**log_Income** - логарифм годового дохода  \n",
    "**Kidhome** - бинарная переменная, принимающая *значение 1*, если респондент имеет детей, и *значение 0* в противном случае  \n",
    "**Teenhome** - бинарная переменная, принимающая *значение 1*, если респондент имеет детей-подростков, и *значение 0* в противном случае   \n",
    "### Продвижение  \n",
    "**Easy_promo** - бинарная переменная наличия жалоб, где переменная принимает *значение 1*, если клиент реагировал на промо покупкой хоть раз, и *значение 0* в противном случае  \n",
    "### Зависимые переменные  \n",
    "**Sales** - сумма покупок каждого клиента  \n",
    "**Purchase** - количество продаж на каждого клиента  \n",
    "## Цель  \n",
    "Определение зависимости количества покупок и размера потраченных денег, а также восприимчивости людей к промо, от социодемографических показателей клиентов"
   ]
  },
  {
   "cell_type": "markdown",
   "id": "c9a03dac",
   "metadata": {},
   "source": [
    "# Работа с данными "
   ]
  },
  {
   "cell_type": "markdown",
   "id": "7e12831d",
   "metadata": {},
   "source": [
    "*Импортируем все необходимые библиотеки*"
   ]
  },
  {
   "cell_type": "code",
   "execution_count": 3,
   "id": "528957e7",
   "metadata": {},
   "outputs": [],
   "source": [
    "import pandas as pd\n",
    "import numpy as np\n",
    "import scipy.stats\n",
    "import matplotlib.pyplot as plt\n",
    "import seaborn as sns\n",
    "import statsmodels.api as sm\n",
    "import scipy.stats"
   ]
  },
  {
   "cell_type": "markdown",
   "id": "f41f3e14",
   "metadata": {},
   "source": [
    "*Загрузим наш датасет, скачанный ранее в формате pickle*"
   ]
  },
  {
   "cell_type": "code",
   "execution_count": 50,
   "id": "f97bcfe3",
   "metadata": {},
   "outputs": [],
   "source": [
    "df = pd.read_pickle('/Users/dzennetbakueva/Desktop/Все/Учеба/Магистратура /2 курс/data /mark_camp_dz2.pkl')"
   ]
  },
  {
   "cell_type": "code",
   "execution_count": 51,
   "id": "5e7416c5",
   "metadata": {
    "scrolled": false
   },
   "outputs": [
    {
     "data": {
      "text/html": [
       "<div>\n",
       "<style scoped>\n",
       "    .dataframe tbody tr th:only-of-type {\n",
       "        vertical-align: middle;\n",
       "    }\n",
       "\n",
       "    .dataframe tbody tr th {\n",
       "        vertical-align: top;\n",
       "    }\n",
       "\n",
       "    .dataframe thead th {\n",
       "        text-align: right;\n",
       "    }\n",
       "</style>\n",
       "<table border=\"1\" class=\"dataframe\">\n",
       "  <thead>\n",
       "    <tr style=\"text-align: right;\">\n",
       "      <th></th>\n",
       "      <th>Education</th>\n",
       "      <th>Marital_Status</th>\n",
       "      <th>Income</th>\n",
       "      <th>Kidhome</th>\n",
       "      <th>Teenhome</th>\n",
       "      <th>Sales</th>\n",
       "      <th>Age</th>\n",
       "      <th>Purchases</th>\n",
       "      <th>Easy_promo</th>\n",
       "      <th>Purchases_Category</th>\n",
       "      <th>log_Income</th>\n",
       "      <th>Income_cat</th>\n",
       "    </tr>\n",
       "  </thead>\n",
       "  <tbody>\n",
       "    <tr>\n",
       "      <th>0</th>\n",
       "      <td>Graduation</td>\n",
       "      <td>Single</td>\n",
       "      <td>58138.0</td>\n",
       "      <td>0</td>\n",
       "      <td>0</td>\n",
       "      <td>1617</td>\n",
       "      <td>65</td>\n",
       "      <td>32</td>\n",
       "      <td>1</td>\n",
       "      <td>High</td>\n",
       "      <td>10.970575</td>\n",
       "      <td>High income</td>\n",
       "    </tr>\n",
       "    <tr>\n",
       "      <th>1</th>\n",
       "      <td>Graduation</td>\n",
       "      <td>Single</td>\n",
       "      <td>46344.0</td>\n",
       "      <td>1</td>\n",
       "      <td>1</td>\n",
       "      <td>27</td>\n",
       "      <td>68</td>\n",
       "      <td>11</td>\n",
       "      <td>0</td>\n",
       "      <td>Low</td>\n",
       "      <td>10.743847</td>\n",
       "      <td>High income</td>\n",
       "    </tr>\n",
       "    <tr>\n",
       "      <th>2</th>\n",
       "      <td>Graduation</td>\n",
       "      <td>Together</td>\n",
       "      <td>71613.0</td>\n",
       "      <td>0</td>\n",
       "      <td>0</td>\n",
       "      <td>776</td>\n",
       "      <td>57</td>\n",
       "      <td>25</td>\n",
       "      <td>0</td>\n",
       "      <td>Normal</td>\n",
       "      <td>11.179032</td>\n",
       "      <td>High income</td>\n",
       "    </tr>\n",
       "    <tr>\n",
       "      <th>3</th>\n",
       "      <td>Graduation</td>\n",
       "      <td>Together</td>\n",
       "      <td>26646.0</td>\n",
       "      <td>1</td>\n",
       "      <td>0</td>\n",
       "      <td>53</td>\n",
       "      <td>38</td>\n",
       "      <td>14</td>\n",
       "      <td>0</td>\n",
       "      <td>Low</td>\n",
       "      <td>10.190394</td>\n",
       "      <td>Middle income</td>\n",
       "    </tr>\n",
       "    <tr>\n",
       "      <th>4</th>\n",
       "      <td>PhD</td>\n",
       "      <td>Married</td>\n",
       "      <td>58293.0</td>\n",
       "      <td>1</td>\n",
       "      <td>0</td>\n",
       "      <td>422</td>\n",
       "      <td>41</td>\n",
       "      <td>24</td>\n",
       "      <td>0</td>\n",
       "      <td>Normal</td>\n",
       "      <td>10.973237</td>\n",
       "      <td>High income</td>\n",
       "    </tr>\n",
       "  </tbody>\n",
       "</table>\n",
       "</div>"
      ],
      "text/plain": [
       "    Education Marital_Status   Income  Kidhome  Teenhome  Sales  Age  \\\n",
       "0  Graduation         Single  58138.0        0         0   1617   65   \n",
       "1  Graduation         Single  46344.0        1         1     27   68   \n",
       "2  Graduation       Together  71613.0        0         0    776   57   \n",
       "3  Graduation       Together  26646.0        1         0     53   38   \n",
       "4         PhD        Married  58293.0        1         0    422   41   \n",
       "\n",
       "   Purchases  Easy_promo Purchases_Category  log_Income     Income_cat  \n",
       "0         32           1               High   10.970575    High income  \n",
       "1         11           0                Low   10.743847    High income  \n",
       "2         25           0             Normal   11.179032    High income  \n",
       "3         14           0                Low   10.190394  Middle income  \n",
       "4         24           0             Normal   10.973237    High income  "
      ]
     },
     "execution_count": 51,
     "metadata": {},
     "output_type": "execute_result"
    }
   ],
   "source": [
    "df.head()"
   ]
  },
  {
   "cell_type": "markdown",
   "id": "1aedfa86",
   "metadata": {},
   "source": [
    "*Размер нашей выборки составляет (2216, 12)*"
   ]
  },
  {
   "cell_type": "code",
   "execution_count": 52,
   "id": "88d6bb76",
   "metadata": {
    "scrolled": false
   },
   "outputs": [
    {
     "data": {
      "text/plain": [
       "(2216, 12)"
      ]
     },
     "execution_count": 52,
     "metadata": {},
     "output_type": "execute_result"
    }
   ],
   "source": [
    "df.shape"
   ]
  },
  {
   "cell_type": "markdown",
   "id": "a0705adf",
   "metadata": {},
   "source": [
    "## Подготовка данных  \n",
    "#### Переменная *Maritial_Status*"
   ]
  },
  {
   "cell_type": "markdown",
   "id": "b7da9595",
   "metadata": {},
   "source": [
    "*В датасете имеется переменная Семейного положения. Переведем ее в бинарную для дальнейшей работы и использования при построении моделей*"
   ]
  },
  {
   "cell_type": "code",
   "execution_count": 53,
   "id": "b7f895d9",
   "metadata": {},
   "outputs": [],
   "source": [
    "df['Marital_Status'] = pd.Categorical(df['Marital_Status'])"
   ]
  },
  {
   "cell_type": "code",
   "execution_count": 54,
   "id": "25176ab7",
   "metadata": {},
   "outputs": [
    {
     "data": {
      "text/plain": [
       "Married     857\n",
       "Together    573\n",
       "Single      471\n",
       "Divorced    232\n",
       "Widow        76\n",
       "Alone         3\n",
       "Absurd        2\n",
       "YOLO          2\n",
       "Name: Marital_Status, dtype: int64"
      ]
     },
     "execution_count": 54,
     "metadata": {},
     "output_type": "execute_result"
    }
   ],
   "source": [
    "df['Marital_Status'].value_counts()"
   ]
  },
  {
   "cell_type": "code",
   "execution_count": 55,
   "id": "dc775da0",
   "metadata": {},
   "outputs": [],
   "source": [
    "def Martial_Status_Bi(x): \n",
    "    if x == 'Together':\n",
    "        return 1 \n",
    "    elif x == 'Married':\n",
    "        return 1 \n",
    "    else: \n",
    "        return 0 \n",
    " \n",
    "df['Martial_Status_Bi'] = df['Marital_Status'].apply(Martial_Status_Bi)"
   ]
  },
  {
   "cell_type": "code",
   "execution_count": 56,
   "id": "faadde56",
   "metadata": {
    "scrolled": true
   },
   "outputs": [
    {
     "data": {
      "text/plain": [
       "1430"
      ]
     },
     "execution_count": 56,
     "metadata": {},
     "output_type": "execute_result"
    }
   ],
   "source": [
    "df['Martial_Status_Bi'].sum()"
   ]
  },
  {
   "cell_type": "markdown",
   "id": "ed34efd0",
   "metadata": {},
   "source": [
    "*Проверим корректность нашей переменной, просуммировав количество значений Together и Married в переменной Marital_Status*"
   ]
  },
  {
   "cell_type": "code",
   "execution_count": 57,
   "id": "985a2c08",
   "metadata": {},
   "outputs": [
    {
     "name": "stdout",
     "output_type": "stream",
     "text": [
      "1430\n"
     ]
    }
   ],
   "source": [
    "print(df[df['Marital_Status'] == 'Together'].value_counts().sum() + df[df['Marital_Status'] == 'Married'].value_counts().sum() )"
   ]
  },
  {
   "cell_type": "markdown",
   "id": "aa6759dd",
   "metadata": {},
   "source": [
    "*Сумма единиц в новой перменной Marital_Status_Bi равна количеству значений Together и Married в переменной Marital_Status, то есть получившаяся новая перемнная корректна*"
   ]
  },
  {
   "cell_type": "code",
   "execution_count": 58,
   "id": "7f37829f",
   "metadata": {},
   "outputs": [],
   "source": [
    "df['Martial_Status_Bi']  = pd.Categorical(df['Martial_Status_Bi'])"
   ]
  },
  {
   "cell_type": "markdown",
   "id": "4522f06e",
   "metadata": {},
   "source": [
    "#### Переменная *Sales*"
   ]
  },
  {
   "cell_type": "markdown",
   "id": "2188f0d9",
   "metadata": {},
   "source": [
    "*Создадим бинарную переменную переменную, показывающую, потратил ли клент большое количество денег на свои покупки (1) или нет (0). Для этого определим, что можно считать большой суммой. Предположительно данная сумма должна быть выше медианного значения.*\n",
    "\n",
    "*Далее получившаяся переменная будет выступать в качестве зависимой для логит модели, показывающей факторы, влияющие на вероятность того, что клиент потратит на покупки большое количество денег*"
   ]
  },
  {
   "cell_type": "code",
   "execution_count": 59,
   "id": "5f56871f",
   "metadata": {},
   "outputs": [
    {
     "name": "stdout",
     "output_type": "stream",
     "text": [
      "Среднее арифметическое = 607.0753610108303\n",
      "Медиана = 396.5\n",
      "3 квантиль = 1048.0\n",
      "Максимальное значение = 2525\n"
     ]
    }
   ],
   "source": [
    "print('Среднее арифметическое =', df['Sales'].mean())\n",
    "print('Медиана =', df['Sales'].median())\n",
    "print('3 квантиль =', np.percentile(df['Sales'], 75))\n",
    "print('Максимальное значение =', df['Sales'].max() )"
   ]
  },
  {
   "cell_type": "markdown",
   "id": "e2d9a4e4",
   "metadata": {},
   "source": [
    "*Возьмем значение 1000 как границу высоких затрат на покупки*"
   ]
  },
  {
   "cell_type": "code",
   "execution_count": 60,
   "id": "4265ee70",
   "metadata": {},
   "outputs": [
    {
     "data": {
      "text/html": [
       "<div>\n",
       "<style scoped>\n",
       "    .dataframe tbody tr th:only-of-type {\n",
       "        vertical-align: middle;\n",
       "    }\n",
       "\n",
       "    .dataframe tbody tr th {\n",
       "        vertical-align: top;\n",
       "    }\n",
       "\n",
       "    .dataframe thead th {\n",
       "        text-align: right;\n",
       "    }\n",
       "</style>\n",
       "<table border=\"1\" class=\"dataframe\">\n",
       "  <thead>\n",
       "    <tr style=\"text-align: right;\">\n",
       "      <th></th>\n",
       "      <th>Education</th>\n",
       "      <th>Marital_Status</th>\n",
       "      <th>Income</th>\n",
       "      <th>Kidhome</th>\n",
       "      <th>Teenhome</th>\n",
       "      <th>Sales</th>\n",
       "      <th>Age</th>\n",
       "      <th>Purchases</th>\n",
       "      <th>Easy_promo</th>\n",
       "      <th>Purchases_Category</th>\n",
       "      <th>log_Income</th>\n",
       "      <th>Income_cat</th>\n",
       "      <th>Martial_Status_Bi</th>\n",
       "      <th>Sales_Bi</th>\n",
       "    </tr>\n",
       "  </thead>\n",
       "  <tbody>\n",
       "    <tr>\n",
       "      <th>0</th>\n",
       "      <td>Graduation</td>\n",
       "      <td>Single</td>\n",
       "      <td>58138.0</td>\n",
       "      <td>0</td>\n",
       "      <td>0</td>\n",
       "      <td>1617</td>\n",
       "      <td>65</td>\n",
       "      <td>32</td>\n",
       "      <td>1</td>\n",
       "      <td>High</td>\n",
       "      <td>10.970575</td>\n",
       "      <td>High income</td>\n",
       "      <td>0</td>\n",
       "      <td>1</td>\n",
       "    </tr>\n",
       "    <tr>\n",
       "      <th>1</th>\n",
       "      <td>Graduation</td>\n",
       "      <td>Single</td>\n",
       "      <td>46344.0</td>\n",
       "      <td>1</td>\n",
       "      <td>1</td>\n",
       "      <td>27</td>\n",
       "      <td>68</td>\n",
       "      <td>11</td>\n",
       "      <td>0</td>\n",
       "      <td>Low</td>\n",
       "      <td>10.743847</td>\n",
       "      <td>High income</td>\n",
       "      <td>0</td>\n",
       "      <td>0</td>\n",
       "    </tr>\n",
       "    <tr>\n",
       "      <th>2</th>\n",
       "      <td>Graduation</td>\n",
       "      <td>Together</td>\n",
       "      <td>71613.0</td>\n",
       "      <td>0</td>\n",
       "      <td>0</td>\n",
       "      <td>776</td>\n",
       "      <td>57</td>\n",
       "      <td>25</td>\n",
       "      <td>0</td>\n",
       "      <td>Normal</td>\n",
       "      <td>11.179032</td>\n",
       "      <td>High income</td>\n",
       "      <td>1</td>\n",
       "      <td>0</td>\n",
       "    </tr>\n",
       "    <tr>\n",
       "      <th>3</th>\n",
       "      <td>Graduation</td>\n",
       "      <td>Together</td>\n",
       "      <td>26646.0</td>\n",
       "      <td>1</td>\n",
       "      <td>0</td>\n",
       "      <td>53</td>\n",
       "      <td>38</td>\n",
       "      <td>14</td>\n",
       "      <td>0</td>\n",
       "      <td>Low</td>\n",
       "      <td>10.190394</td>\n",
       "      <td>Middle income</td>\n",
       "      <td>1</td>\n",
       "      <td>0</td>\n",
       "    </tr>\n",
       "    <tr>\n",
       "      <th>4</th>\n",
       "      <td>PhD</td>\n",
       "      <td>Married</td>\n",
       "      <td>58293.0</td>\n",
       "      <td>1</td>\n",
       "      <td>0</td>\n",
       "      <td>422</td>\n",
       "      <td>41</td>\n",
       "      <td>24</td>\n",
       "      <td>0</td>\n",
       "      <td>Normal</td>\n",
       "      <td>10.973237</td>\n",
       "      <td>High income</td>\n",
       "      <td>1</td>\n",
       "      <td>0</td>\n",
       "    </tr>\n",
       "  </tbody>\n",
       "</table>\n",
       "</div>"
      ],
      "text/plain": [
       "    Education Marital_Status   Income  Kidhome  Teenhome  Sales  Age  \\\n",
       "0  Graduation         Single  58138.0        0         0   1617   65   \n",
       "1  Graduation         Single  46344.0        1         1     27   68   \n",
       "2  Graduation       Together  71613.0        0         0    776   57   \n",
       "3  Graduation       Together  26646.0        1         0     53   38   \n",
       "4         PhD        Married  58293.0        1         0    422   41   \n",
       "\n",
       "   Purchases  Easy_promo Purchases_Category  log_Income     Income_cat  \\\n",
       "0         32           1               High   10.970575    High income   \n",
       "1         11           0                Low   10.743847    High income   \n",
       "2         25           0             Normal   11.179032    High income   \n",
       "3         14           0                Low   10.190394  Middle income   \n",
       "4         24           0             Normal   10.973237    High income   \n",
       "\n",
       "  Martial_Status_Bi  Sales_Bi  \n",
       "0                 0         1  \n",
       "1                 0         0  \n",
       "2                 1         0  \n",
       "3                 1         0  \n",
       "4                 1         0  "
      ]
     },
     "execution_count": 60,
     "metadata": {},
     "output_type": "execute_result"
    }
   ],
   "source": [
    "df['Sales_Bi'] = df['Sales'].apply(lambda x: 1 if x >= 1000 else 0)\n",
    "df.head()"
   ]
  },
  {
   "cell_type": "markdown",
   "id": "d020d8d5",
   "metadata": {},
   "source": [
    "*Уже в первых 5 наблюдениях видно, что функция работает корректно*"
   ]
  },
  {
   "cell_type": "markdown",
   "id": "7fde124a",
   "metadata": {},
   "source": [
    "# Регрессионный анализ"
   ]
  },
  {
   "cell_type": "markdown",
   "id": "ce5cffc5",
   "metadata": {},
   "source": [
    "*Создадим датасет, содержащий в себя только количественные переменные и найдем матрицу корреляций*"
   ]
  },
  {
   "cell_type": "code",
   "execution_count": 61,
   "id": "d4c90050",
   "metadata": {},
   "outputs": [],
   "source": [
    "df_col = df.drop(['Education', 'Marital_Status', 'Kidhome', 'Teenhome', 'Easy_promo', 'Easy_promo', 'Purchases_Category', 'log_Income', 'Income_cat', 'Martial_Status_Bi', 'Sales_Bi'], axis = 1)"
   ]
  },
  {
   "cell_type": "code",
   "execution_count": 62,
   "id": "b6233947",
   "metadata": {
    "scrolled": false
   },
   "outputs": [
    {
     "data": {
      "text/html": [
       "<div>\n",
       "<style scoped>\n",
       "    .dataframe tbody tr th:only-of-type {\n",
       "        vertical-align: middle;\n",
       "    }\n",
       "\n",
       "    .dataframe tbody tr th {\n",
       "        vertical-align: top;\n",
       "    }\n",
       "\n",
       "    .dataframe thead th {\n",
       "        text-align: right;\n",
       "    }\n",
       "</style>\n",
       "<table border=\"1\" class=\"dataframe\">\n",
       "  <thead>\n",
       "    <tr style=\"text-align: right;\">\n",
       "      <th></th>\n",
       "      <th>Income</th>\n",
       "      <th>Sales</th>\n",
       "      <th>Age</th>\n",
       "      <th>Purchases</th>\n",
       "    </tr>\n",
       "  </thead>\n",
       "  <tbody>\n",
       "    <tr>\n",
       "      <th>0</th>\n",
       "      <td>58138.0</td>\n",
       "      <td>1617</td>\n",
       "      <td>65</td>\n",
       "      <td>32</td>\n",
       "    </tr>\n",
       "    <tr>\n",
       "      <th>1</th>\n",
       "      <td>46344.0</td>\n",
       "      <td>27</td>\n",
       "      <td>68</td>\n",
       "      <td>11</td>\n",
       "    </tr>\n",
       "    <tr>\n",
       "      <th>2</th>\n",
       "      <td>71613.0</td>\n",
       "      <td>776</td>\n",
       "      <td>57</td>\n",
       "      <td>25</td>\n",
       "    </tr>\n",
       "    <tr>\n",
       "      <th>3</th>\n",
       "      <td>26646.0</td>\n",
       "      <td>53</td>\n",
       "      <td>38</td>\n",
       "      <td>14</td>\n",
       "    </tr>\n",
       "    <tr>\n",
       "      <th>4</th>\n",
       "      <td>58293.0</td>\n",
       "      <td>422</td>\n",
       "      <td>41</td>\n",
       "      <td>24</td>\n",
       "    </tr>\n",
       "  </tbody>\n",
       "</table>\n",
       "</div>"
      ],
      "text/plain": [
       "    Income  Sales  Age  Purchases\n",
       "0  58138.0   1617   65         32\n",
       "1  46344.0     27   68         11\n",
       "2  71613.0    776   57         25\n",
       "3  26646.0     53   38         14\n",
       "4  58293.0    422   41         24"
      ]
     },
     "execution_count": 62,
     "metadata": {},
     "output_type": "execute_result"
    }
   ],
   "source": [
    "df_col.head()"
   ]
  },
  {
   "cell_type": "markdown",
   "id": "d9919c75",
   "metadata": {},
   "source": [
    "*Построим матрицу корреляций и визуализируем это с помощью heatmap*"
   ]
  },
  {
   "cell_type": "code",
   "execution_count": 63,
   "id": "7c06d134",
   "metadata": {},
   "outputs": [
    {
     "name": "stdout",
     "output_type": "stream",
     "text": [
      "             Income     Sales       Age  Purchases\n",
      "Income     1.000000  0.667576  0.161791   0.412871\n",
      "Sales      0.667576  1.000000  0.113487   0.630477\n",
      "Age        0.161791  0.113487  1.000000   0.137848\n",
      "Purchases  0.412871  0.630477  0.137848   1.000000\n"
     ]
    }
   ],
   "source": [
    "df_col_mat = df_col.corr()\n",
    "print(df_col_mat)"
   ]
  },
  {
   "cell_type": "code",
   "execution_count": 64,
   "id": "dfb21d0f",
   "metadata": {
    "scrolled": true
   },
   "outputs": [
    {
     "data": {
      "image/png": "[encoded data removed]",
      "text/plain": [
       "<Figure size 576x576 with 2 Axes>"
      ]
     },
     "metadata": {
      "needs_background": "light"
     },
     "output_type": "display_data"
    }
   ],
   "source": [
    "plt.figure(figsize =(8,8))\n",
    "p=sns.heatmap(df_col.corr(), annot=True, cmap='RdYlGn', vmin=-1, vmax=1 )"
   ]
  },
  {
   "cell_type": "markdown",
   "id": "7f900a91",
   "metadata": {},
   "source": [
    "*Заметна сильная положительная зависимость между **Доходом** и **Суммой покупок**, а также **Суммой покупок** и **Количеством покупок** (что логичено).*  \n",
    "Умеренная зависимость между **Доходом** и **Количеством покупок**.  \n",
    "*Зависимость же между **Возрастом** и всеми другими перменными слабая.*"
   ]
  },
  {
   "cell_type": "markdown",
   "id": "68726337",
   "metadata": {},
   "source": [
    "### Визуализируем данные о наших зависимых переменных Sales и Purchases"
   ]
  },
  {
   "cell_type": "code",
   "execution_count": 325,
   "id": "8a4ddefb",
   "metadata": {
    "scrolled": true
   },
   "outputs": [
    {
     "data": {
      "text/plain": [
       "Text(0.5, 0.98, 'Зависимость Суммы покупок и Количества покупок от социальных факторов')"
      ]
     },
     "execution_count": 325,
     "metadata": {},
     "output_type": "execute_result"
    },
    {
     "data": {
      "image/png": "[encoded data removed]",
      "text/plain": [
       "<Figure size 1440x720 with 6 Axes>"
      ]
     },
     "metadata": {
      "needs_background": "light"
     },
     "output_type": "display_data"
    }
   ],
   "source": [
    "df_ed_sales = df.groupby('Education')['Sales'].mean()\n",
    "df_ed_purchases = df.groupby('Education')['Purchases'].mean()\n",
    "df_inc_sales = df.groupby('Income_cat')['Sales'].mean()\n",
    "df_inc_purchases = df.groupby('Income_cat')['Purchases'].mean()\n",
    "df_fam_sales = df.groupby('Martial_Status_Bi')['Sales'].mean()\n",
    "df_fam_purchases = df.groupby('Martial_Status_Bi')['Purchases'].mean()\n",
    "\n",
    "\n",
    "fig, ax = plt.subplots(2, 3, figsize=(20, 10))\n",
    "ax[1][0].bar(df_ed_purchases.index, df_ed_purchases, color='red')\n",
    "ax[0][0].bar(df_ed_sales.index, df_ed_sales, color='pink')\n",
    "ax[0][1].bar(df_inc_sales.index, df_inc_sales, color='pink')\n",
    "ax[0][2].bar(df_fam_sales.index, df_fam_sales, color='pink')\n",
    "ax[1][1].bar(df_inc_purchases.index, df_inc_purchases, color='red')\n",
    "ax[1][2].bar(df_fam_purchases.index, df_fam_purchases, color='red')\n",
    "\n",
    "ax[1][0].set_title('Количество покупок по Уровню образования', fontsize = 15)\n",
    "ax[0][0].set_title('Сумма покупок по Уровню образования', fontsize = 15)\n",
    "ax[0][1].set_title('Сумма покупок по Доходу', fontsize = 15)\n",
    "ax[0][2].set_title('Сумма покупок по Семейному положению', fontsize = 15)\n",
    "ax[1][1].set_title('Количество покупок по Доходу', fontsize = 15)\n",
    "ax[1][2].set_title('Количество покупок по Семейному положению', fontsize = 15)\n",
    "\n",
    "fig.suptitle('Зависимость Суммы покупок и Количества покупок от социальных факторов', fontsize = 20, fontstyle = 'oblique')"
   ]
  },
  {
   "cell_type": "markdown",
   "id": "67964f9b",
   "metadata": {},
   "source": [
    "## Линейная регрессия зависимости Суммы покупок от социальных факторов "
   ]
  },
  {
   "cell_type": "markdown",
   "id": "12455a31",
   "metadata": {},
   "source": [
    "*Для построения регрессии я создам дполнительные вспомогательные датафреймы, в которых будет содержаться только необходимые переменные*"
   ]
  },
  {
   "cell_type": "code",
   "execution_count": 256,
   "id": "d6d26440",
   "metadata": {},
   "outputs": [],
   "source": [
    "df_sales_reg = df.drop(['Easy_promo','Education', 'log_Income', 'Marital_Status', 'Purchases_Category', 'Income_cat', 'Sales_Bi', 'Purchases'], axis=1)"
   ]
  },
  {
   "cell_type": "markdown",
   "id": "d14c6718",
   "metadata": {},
   "source": [
    "*В данном случае мы удаляем в том числе переменные **Количества покупок (Purchases)** и **Easy_promo**, так как между этими переменными может возникнуть мультиколлинеарность. Переменная **Easy_promo** равняется 1 только в том случае, если была совершена покупка, что уже смещает оценку в большую сторону. **Количество же покупок (Purchases)** растет пропорционально сумме потраченных денег на покупки: такая зависимость не несет никакого физического смысла*"
   ]
  },
  {
   "cell_type": "code",
   "execution_count": 257,
   "id": "e277a363",
   "metadata": {
    "scrolled": true
   },
   "outputs": [
    {
     "data": {
      "text/html": [
       "<div>\n",
       "<style scoped>\n",
       "    .dataframe tbody tr th:only-of-type {\n",
       "        vertical-align: middle;\n",
       "    }\n",
       "\n",
       "    .dataframe tbody tr th {\n",
       "        vertical-align: top;\n",
       "    }\n",
       "\n",
       "    .dataframe thead th {\n",
       "        text-align: right;\n",
       "    }\n",
       "</style>\n",
       "<table border=\"1\" class=\"dataframe\">\n",
       "  <thead>\n",
       "    <tr style=\"text-align: right;\">\n",
       "      <th></th>\n",
       "      <th>Income</th>\n",
       "      <th>Kidhome</th>\n",
       "      <th>Teenhome</th>\n",
       "      <th>Sales</th>\n",
       "      <th>Age</th>\n",
       "      <th>Martial_Status_Bi</th>\n",
       "    </tr>\n",
       "  </thead>\n",
       "  <tbody>\n",
       "    <tr>\n",
       "      <th>0</th>\n",
       "      <td>58138.0</td>\n",
       "      <td>0</td>\n",
       "      <td>0</td>\n",
       "      <td>1617</td>\n",
       "      <td>65</td>\n",
       "      <td>0</td>\n",
       "    </tr>\n",
       "    <tr>\n",
       "      <th>1</th>\n",
       "      <td>46344.0</td>\n",
       "      <td>1</td>\n",
       "      <td>1</td>\n",
       "      <td>27</td>\n",
       "      <td>68</td>\n",
       "      <td>0</td>\n",
       "    </tr>\n",
       "    <tr>\n",
       "      <th>2</th>\n",
       "      <td>71613.0</td>\n",
       "      <td>0</td>\n",
       "      <td>0</td>\n",
       "      <td>776</td>\n",
       "      <td>57</td>\n",
       "      <td>1</td>\n",
       "    </tr>\n",
       "    <tr>\n",
       "      <th>3</th>\n",
       "      <td>26646.0</td>\n",
       "      <td>1</td>\n",
       "      <td>0</td>\n",
       "      <td>53</td>\n",
       "      <td>38</td>\n",
       "      <td>1</td>\n",
       "    </tr>\n",
       "    <tr>\n",
       "      <th>4</th>\n",
       "      <td>58293.0</td>\n",
       "      <td>1</td>\n",
       "      <td>0</td>\n",
       "      <td>422</td>\n",
       "      <td>41</td>\n",
       "      <td>1</td>\n",
       "    </tr>\n",
       "  </tbody>\n",
       "</table>\n",
       "</div>"
      ],
      "text/plain": [
       "    Income  Kidhome  Teenhome  Sales  Age Martial_Status_Bi\n",
       "0  58138.0        0         0   1617   65                 0\n",
       "1  46344.0        1         1     27   68                 0\n",
       "2  71613.0        0         0    776   57                 1\n",
       "3  26646.0        1         0     53   38                 1\n",
       "4  58293.0        1         0    422   41                 1"
      ]
     },
     "execution_count": 257,
     "metadata": {},
     "output_type": "execute_result"
    }
   ],
   "source": [
    "df_sales_reg.head()"
   ]
  },
  {
   "cell_type": "markdown",
   "id": "3c2ab096",
   "metadata": {},
   "source": [
    "*Построим линейную регрессию с зависимой перменной **Sales** и описывающими переменными **Income**, **Kidhome**, **Teenhome**, **Age** и **Martial_Status_Bi**.* "
   ]
  },
  {
   "cell_type": "code",
   "execution_count": 258,
   "id": "81b86ecb",
   "metadata": {
    "scrolled": true
   },
   "outputs": [
    {
     "name": "stdout",
     "output_type": "stream",
     "text": [
      "                            OLS Regression Results                            \n",
      "==============================================================================\n",
      "Dep. Variable:                  Sales   R-squared:                       0.572\n",
      "Model:                            OLS   Adj. R-squared:                  0.571\n",
      "Method:                 Least Squares   F-statistic:                     591.5\n",
      "Date:                Sat, 10 Dec 2022   Prob (F-statistic):               0.00\n",
      "Time:                        18:31:42   Log-Likelihood:                -16389.\n",
      "No. Observations:                2216   AIC:                         3.279e+04\n",
      "Df Residuals:                    2210   BIC:                         3.282e+04\n",
      "Df Model:                           5                                         \n",
      "Covariance Type:            nonrobust                                         \n",
      "=====================================================================================\n",
      "                        coef    std err          t      P>|t|      [0.025      0.975]\n",
      "-------------------------------------------------------------------------------------\n",
      "const               253.5314     48.311      5.248      0.000     158.793     348.270\n",
      "Income                0.0123      0.000     32.901      0.000       0.012       0.013\n",
      "Kidhome            -434.2331     19.401    -22.382      0.000    -472.279    -396.187\n",
      "Teenhome           -212.9324     17.985    -11.839      0.000    -248.203    -177.662\n",
      "Age                   0.0865      0.776      0.112      0.911      -1.435       1.608\n",
      "Martial_Status_Bi    -9.5240     17.544     -0.543      0.587     -43.928      24.880\n",
      "==============================================================================\n",
      "Omnibus:                     1956.755   Durbin-Watson:                   1.952\n",
      "Prob(Omnibus):                  0.000   Jarque-Bera (JB):           513696.004\n",
      "Skew:                          -3.352   Prob(JB):                         0.00\n",
      "Kurtosis:                      77.287   Cond. No.                     3.43e+05\n",
      "==============================================================================\n",
      "\n",
      "Notes:\n",
      "[1] Standard Errors assume that the covariance matrix of the errors is correctly specified.\n",
      "[2] The condition number is large, 3.43e+05. This might indicate that there are\n",
      "strong multicollinearity or other numerical problems.\n"
     ]
    }
   ],
   "source": [
    "X_mult_1 = sm.add_constant(df_sales_reg.drop('Sales', axis=1))\n",
    "y_1 = df_sales_reg['Sales']\n",
    "\n",
    "model = sm.OLS(y_1, X_mult_1)\n",
    "res_1 = model.fit()\n",
    "print(res_1.summary())"
   ]
  },
  {
   "cell_type": "markdown",
   "id": "e17300b8",
   "metadata": {},
   "source": [
    "#### Описание результатов модели:"
   ]
  },
  {
   "cell_type": "markdown",
   "id": "43592e29",
   "metadata": {},
   "source": [
    "*Переменные **Age** и **Martial_Status_Bi** не являются значимыми переменными при любом уровне значимости, так как гипотеза о равенстве коэффициентов при данных переменных нулю не отвергается*"
   ]
  },
  {
   "cell_type": "markdown",
   "id": "d544e151",
   "metadata": {},
   "source": [
    "*Как было видно из графиков выше и видно теперь из регрессионной модели, **Доход (Income)** положительно влияет на сумму покупок и увеличивает ее на **0.0123** с каждой единицей дохода*  \n",
    "\n",
    "*Переменные **Kidhome** и **Teenhome** же наоборот имеют отрицательное влияние на сумму покупок, уменьшая ее на **434.2331** и **212.9324** единиц соответсвенно*  \n",
    "\n",
    "*Все остальные переменные модели не являются статистически значимыми*  \n",
    "\n",
    "*Таким образом, наличие детей и подростков негативно влияют на потраченную сумму покупок. Возможно, причина такого поведения в категориях товаров, которые представлены в данном дата сете (включает в сеюя в трм числе винные продукты и не включает многие товары для детей и подростков)*"
   ]
  },
  {
   "cell_type": "markdown",
   "id": "64c76530",
   "metadata": {},
   "source": [
    "#### Проверка качества модели:"
   ]
  },
  {
   "cell_type": "markdown",
   "id": "b60b16ac",
   "metadata": {},
   "source": [
    "*Коэффициент детерминации **R2 = 0.572**. Это говорит о том, что полученная модель объясняет 61% дисперсии зависимой переменной. Даннная модель может считаться качественной, однако необходимо проверить показатели **MSE**, **MAE** и **RMSE**.*"
   ]
  },
  {
   "cell_type": "code",
   "execution_count": 260,
   "id": "2419a3f6",
   "metadata": {},
   "outputs": [],
   "source": [
    "features_1 = df_sales_reg.drop('Sales', axis=1)\n",
    "y_1 = df_sales_reg['Sales']"
   ]
  },
  {
   "cell_type": "code",
   "execution_count": 261,
   "id": "41af0ad8",
   "metadata": {},
   "outputs": [],
   "source": [
    "y_true_1 = y_1"
   ]
  },
  {
   "cell_type": "code",
   "execution_count": null,
   "id": "ee64792f",
   "metadata": {},
   "outputs": [],
   "source": [
    "from sklearn.linear_model import LinearRegression\n",
    "reg_1 = LinearRegression().fit(features_1, y_1)"
   ]
  },
  {
   "cell_type": "code",
   "execution_count": 263,
   "id": "94121580",
   "metadata": {},
   "outputs": [],
   "source": [
    "y_pred_1 = reg_1.predict(features_1)"
   ]
  },
  {
   "cell_type": "code",
   "execution_count": 264,
   "id": "a7f992aa",
   "metadata": {},
   "outputs": [
    {
     "data": {
      "text/plain": [
       "Text(0, 0.5, 'Predicted values')"
      ]
     },
     "execution_count": 264,
     "metadata": {},
     "output_type": "execute_result"
    },
    {
     "data": {
      "image/png": "[encoded data removed]",
      "text/plain": [
       "<Figure size 432x288 with 1 Axes>"
      ]
     },
     "metadata": {
      "needs_background": "light"
     },
     "output_type": "display_data"
    }
   ],
   "source": [
    "plt.scatter(y_1, y_pred_1, color = 'pink')\n",
    "plt.xlabel('Actual values')\n",
    "plt.ylabel('Predicted values')"
   ]
  },
  {
   "cell_type": "code",
   "execution_count": 328,
   "id": "ff26b573",
   "metadata": {},
   "outputs": [],
   "source": [
    "err_1 = y_1 - y_pred_1\n",
    "err_d_1 = pd.DataFrame(data = err_1)"
   ]
  },
  {
   "cell_type": "code",
   "execution_count": 267,
   "id": "2878eb8d",
   "metadata": {},
   "outputs": [
    {
     "data": {
      "text/plain": [
       "array([[<AxesSubplot:title={'center':'Sales'}>]], dtype=object)"
      ]
     },
     "execution_count": 267,
     "metadata": {},
     "output_type": "execute_result"
    },
    {
     "data": {
      "image/png": "[encoded data removed]",
      "text/plain": [
       "<Figure size 432x288 with 1 Axes>"
      ]
     },
     "metadata": {
      "needs_background": "light"
     },
     "output_type": "display_data"
    }
   ],
   "source": [
    "err_d_1.hist(color='pink')"
   ]
  },
  {
   "cell_type": "code",
   "execution_count": 268,
   "id": "1af61cf0",
   "metadata": {},
   "outputs": [
    {
     "name": "stdout",
     "output_type": "stream",
     "text": [
      "MAE = 267.87859331029415\n",
      "MSE = 155377.90538246118\n",
      "RMSE = 155377.90538246118\n",
      "R-squared = 0.5723445273489021\n"
     ]
    }
   ],
   "source": [
    "from sklearn.metrics import mean_absolute_error\n",
    "print('MAE = %s' % mean_absolute_error(reg_1.predict(features_1),y_1))\n",
    "print('MSE =', mean_squared_error(y_true_1, y_pred_1))\n",
    "print('RMSE = %s' % mean_squared_error(reg_1.predict(features_1),y_1))\n",
    "print('R-squared =', r2_score(y_1, y_pred_1))"
   ]
  },
  {
   "cell_type": "markdown",
   "id": "8e029ecb",
   "metadata": {},
   "source": [
    "*Мы имеем очень высокие показатели **MAE** (среднее отклонение реального значения от предсказанного), **MSE** (квадрат отклонения ожидаемой оценки от реальной) и **RMSE** (корень MSE). Это говорит о том, что модель не точная, несмотря на высокий коэффициент детерминации. Большое значение **RMSE** может быть связано стем, что в данных есть выбросы*  \n",
    "\n",
    "*Однако мы все еще имеем высокий коэффициент детерминации и можем предположить, что при тех же исходных, но без выбросов, данная модель может быть достаточно качественной*"
   ]
  },
  {
   "cell_type": "markdown",
   "id": "0cda81b3",
   "metadata": {},
   "source": [
    "## Линейная регрессия зависимости Количества покупок от социальных факторов "
   ]
  },
  {
   "cell_type": "markdown",
   "id": "8e47498a",
   "metadata": {},
   "source": [
    "*Построим линейную регрессию с зависимой перменной **Purchases** и описывающими переменными **Income**, **Kidhome**, **Teenhome**, **Age** и **Martial_Status_Bi**.*"
   ]
  },
  {
   "cell_type": "code",
   "execution_count": 244,
   "id": "859cdbea",
   "metadata": {},
   "outputs": [],
   "source": [
    "df_purch_reg = df.drop(['Education', 'log_Income', 'Marital_Status', 'Purchases_Category', 'Income_cat', 'Sales_Bi', 'Sales', 'Easy_promo'], axis=1)"
   ]
  },
  {
   "cell_type": "code",
   "execution_count": 311,
   "id": "928c607a",
   "metadata": {},
   "outputs": [
    {
     "name": "stdout",
     "output_type": "stream",
     "text": [
      "                            OLS Regression Results                            \n",
      "==============================================================================\n",
      "Dep. Variable:              Purchases   R-squared:                       0.242\n",
      "Model:                            OLS   Adj. R-squared:                  0.240\n",
      "Method:                 Least Squares   F-statistic:                     141.3\n",
      "Date:                Sun, 11 Dec 2022   Prob (F-statistic):          2.64e-130\n",
      "Time:                        23:01:25   Log-Likelihood:                -7236.6\n",
      "No. Observations:                2216   AIC:                         1.449e+04\n",
      "Df Residuals:                    2210   BIC:                         1.452e+04\n",
      "Df Model:                           5                                         \n",
      "Covariance Type:            nonrobust                                         \n",
      "=====================================================================================\n",
      "                        coef    std err          t      P>|t|      [0.025      0.975]\n",
      "-------------------------------------------------------------------------------------\n",
      "const                16.6644      0.777     21.451      0.000      15.141      18.188\n",
      "Income             9.129e-05   5.99e-06     15.233      0.000    7.95e-05       0.000\n",
      "Kidhome              -3.3356      0.312    -10.691      0.000      -3.947      -2.724\n",
      "Teenhome              2.6434      0.289      9.140      0.000       2.076       3.211\n",
      "Age                  -0.0218      0.012     -1.751      0.080      -0.046       0.003\n",
      "Martial_Status_Bi     0.0879      0.282      0.312      0.755      -0.465       0.641\n",
      "==============================================================================\n",
      "Omnibus:                      186.434   Durbin-Watson:                   2.012\n",
      "Prob(Omnibus):                  0.000   Jarque-Bera (JB):             1130.072\n",
      "Skew:                           0.039   Prob(JB):                    4.05e-246\n",
      "Kurtosis:                       6.498   Cond. No.                     3.43e+05\n",
      "==============================================================================\n",
      "\n",
      "Notes:\n",
      "[1] Standard Errors assume that the covariance matrix of the errors is correctly specified.\n",
      "[2] The condition number is large, 3.43e+05. This might indicate that there are\n",
      "strong multicollinearity or other numerical problems.\n"
     ]
    }
   ],
   "source": [
    "X_mult_2 = sm.add_constant(df_purch_reg.drop('Purchases', axis=1))\n",
    "y_2 = df_purch_reg['Purchases']\n",
    "\n",
    "model = sm.OLS(y_2, X_mult_2)\n",
    "res_2 = model.fit()\n",
    "print(res_2.summary())"
   ]
  },
  {
   "cell_type": "markdown",
   "id": "9b6b017d",
   "metadata": {},
   "source": [
    "#### Описание результатов модели: "
   ]
  },
  {
   "cell_type": "markdown",
   "id": "ddd96ce9",
   "metadata": {},
   "source": [
    "*Переменные **Age** и **Martial_Status_Bi** не являются значимыми переменными, так как в результате t-тестирования вероятность нулевого коэффициента при данных переменных не близка к 0. Так же в доверительный интервал входит 0, что так же говорит нам о статистической незначимости перемнных*"
   ]
  },
  {
   "cell_type": "markdown",
   "id": "b002353b",
   "metadata": {},
   "source": [
    "*Результаты данной модели несколько отличаются от модели с зависимой перменной **Суммы покупок (Sales)**. В данной моделе **Доход (Income)** также имеет положительное влияние, хоть и незначительное, на количество покупок клиента, увеличивая количество покупок на **9.129e-05**.*  \n",
    "\n",
    "*Наличие детей **(Kidhome)** же уменьшает количество покупок на **3.3356**. Это можно объяснить тем, что совершать покупки с детьми легче разово, чем дробить на несколько сессий (однако, это лишь предположение)*  \n",
    "\n",
    "*Переменная наличия подростков домат **(Teenhome)** увеличивает колчиество покупок на **2.6434**, что также можно попробовать объяснить некоторой самостоятельностью подростков в совершении покупок (так как подсчет покупок идет на домохозяйство).*"
   ]
  },
  {
   "cell_type": "markdown",
   "id": "db814a9e",
   "metadata": {},
   "source": [
    "#### Проверка качества модели:"
   ]
  },
  {
   "cell_type": "markdown",
   "id": "26eddb05",
   "metadata": {},
   "source": [
    "*Коэффициент детерминации **R2 = 0.242**. Это говорит о том, что полученная модель объясняет 27% дисперсии зависимой переменной. Это достаточно низкое значение, что говорит о том, что полученная модель некачественна. В связи с этимданная модель не будет рассмотрена подробно. Yеобходимо проверить показатели **MSE**, **MAE** и **RMSE**.*"
   ]
  },
  {
   "cell_type": "code",
   "execution_count": 247,
   "id": "288e99ed",
   "metadata": {},
   "outputs": [],
   "source": [
    "features_2 = df_purch_reg.drop('Purchases', axis=1)\n",
    "y_2 = df_purch_reg['Purchases']"
   ]
  },
  {
   "cell_type": "code",
   "execution_count": 248,
   "id": "600ed26a",
   "metadata": {},
   "outputs": [],
   "source": [
    "y_true_2 = y_2"
   ]
  },
  {
   "cell_type": "code",
   "execution_count": null,
   "id": "4f1b8692",
   "metadata": {},
   "outputs": [],
   "source": [
    "from sklearn.linear_model import LinearRegression\n",
    "reg_2 = LinearRegression().fit(features_2, y_2)"
   ]
  },
  {
   "cell_type": "code",
   "execution_count": 327,
   "id": "9875e34e",
   "metadata": {},
   "outputs": [],
   "source": [
    "y_pred_2 = reg_2.predict(features_2)"
   ]
  },
  {
   "cell_type": "code",
   "execution_count": 304,
   "id": "89468bad",
   "metadata": {},
   "outputs": [
    {
     "data": {
      "text/plain": [
       "Text(0, 0.5, 'Predicted values')"
      ]
     },
     "execution_count": 304,
     "metadata": {},
     "output_type": "execute_result"
    },
    {
     "data": {
      "image/png": "[encoded data removed]",
      "text/plain": [
       "<Figure size 432x288 with 1 Axes>"
      ]
     },
     "metadata": {
      "needs_background": "light"
     },
     "output_type": "display_data"
    }
   ],
   "source": [
    "plt.scatter(y_2, y_pred_2, color = 'pink')\n",
    "plt.xlabel('Actual values')\n",
    "plt.ylabel('Predicted values')"
   ]
  },
  {
   "cell_type": "code",
   "execution_count": 306,
   "id": "c7f7b639",
   "metadata": {},
   "outputs": [],
   "source": [
    "err_2 = y_2 - y_pred_2\n",
    "\n",
    "err_d_2 = pd.DataFrame(data = err_2)"
   ]
  },
  {
   "cell_type": "code",
   "execution_count": 307,
   "id": "bb2ed322",
   "metadata": {},
   "outputs": [
    {
     "data": {
      "text/plain": [
       "array([[<AxesSubplot:title={'center':'Purchases'}>]], dtype=object)"
      ]
     },
     "execution_count": 307,
     "metadata": {},
     "output_type": "execute_result"
    },
    {
     "data": {
      "image/png": "[encoded data removed]",
      "text/plain": [
       "<Figure size 432x288 with 1 Axes>"
      ]
     },
     "metadata": {
      "needs_background": "light"
     },
     "output_type": "display_data"
    }
   ],
   "source": [
    "err_d_2.hist(color='pink')"
   ]
  },
  {
   "cell_type": "code",
   "execution_count": 309,
   "id": "b87089c4",
   "metadata": {},
   "outputs": [
    {
     "name": "stdout",
     "output_type": "stream",
     "text": [
      "MAE = 4.881145970430491\n",
      "MSE = 40.178783941853155\n",
      "RMSE = 40.178783941853155\n",
      "R-squared = 0.24220937408761545\n"
     ]
    }
   ],
   "source": [
    "from sklearn.metrics import mean_absolute_error\n",
    "print('MAE = %s' % mean_absolute_error(reg_2.predict(features_2),y_2))\n",
    "print('MSE =', mean_squared_error(y_true_2, y_pred_2))\n",
    "print('RMSE = %s' % mean_squared_error(reg_2.predict(features_2),y_2))\n",
    "print('R-squared =', r2_score(y_2, y_pred_2))"
   ]
  },
  {
   "cell_type": "markdown",
   "id": "ba098858",
   "metadata": {},
   "source": [
    "*В данном случае у нас все показатели довольно низкие, включая R-squared, однако низкие показатели всех остальных показателей говорят о точности данной модели* "
   ]
  },
  {
   "cell_type": "markdown",
   "id": "22c787f9",
   "metadata": {},
   "source": [
    "## Логистическая модели Вероятности совершения покупки с высоким чеком от социальных факторов."
   ]
  },
  {
   "cell_type": "markdown",
   "id": "75442fa2",
   "metadata": {},
   "source": [
    "*Построим логистическую модель с зависимой перменной **Sales_Bi** и описывающими переменными **Income**, **Kidhome**, **Teenhome**, **Age**, **Easy_promo** и **Martial_Status_Bi**. В данном случае зависимой переменной выступает бинарная перменная со значениями 1 (большая сумма покупок) и 0 (маленькая сумма покупок)*"
   ]
  },
  {
   "cell_type": "code",
   "execution_count": 269,
   "id": "56a1d838",
   "metadata": {},
   "outputs": [],
   "source": [
    "df_sales_bi_reg = df.drop(['Easy_promo', 'Education', 'log_Income', 'Marital_Status', 'Purchases_Category', 'Income_cat', 'Sales', 'Purchases'], axis=1)"
   ]
  },
  {
   "cell_type": "code",
   "execution_count": 270,
   "id": "561f54b9",
   "metadata": {
    "scrolled": false
   },
   "outputs": [
    {
     "name": "stdout",
     "output_type": "stream",
     "text": [
      "Optimization terminated successfully.\n",
      "         Current function value: 0.314415\n",
      "         Iterations 8\n",
      "                           Logit Regression Results                           \n",
      "==============================================================================\n",
      "Dep. Variable:               Sales_Bi   No. Observations:                 2216\n",
      "Model:                          Logit   Df Residuals:                     2210\n",
      "Method:                           MLE   Df Model:                            5\n",
      "Date:                Sat, 10 Dec 2022   Pseudo R-squ.:                  0.4608\n",
      "Time:                        18:32:40   Log-Likelihood:                -696.74\n",
      "converged:                       True   LL-Null:                       -1292.2\n",
      "Covariance Type:            nonrobust   LLR p-value:                2.780e-255\n",
      "=====================================================================================\n",
      "                        coef    std err          z      P>|z|      [0.025      0.975]\n",
      "-------------------------------------------------------------------------------------\n",
      "const                -5.0144      0.479    -10.472      0.000      -5.953      -4.076\n",
      "Income             8.984e-05   5.21e-06     17.232      0.000    7.96e-05       0.000\n",
      "Kidhome              -1.7450      0.216     -8.075      0.000      -2.169      -1.321\n",
      "Teenhome             -0.9725      0.140     -6.937      0.000      -1.247      -0.698\n",
      "Age                  -0.0073      0.006     -1.257      0.209      -0.019       0.004\n",
      "Martial_Status_Bi    -0.0658      0.142     -0.464      0.643      -0.344       0.212\n",
      "=====================================================================================\n"
     ]
    }
   ],
   "source": [
    "X_l_1 = sm.add_constant(df_sales_bi_reg.drop('Sales_Bi', axis=1))\n",
    "y = df_sales_bi_reg['Sales_Bi']\n",
    "\n",
    "logit = sm.Logit(y, X_l_1)\n",
    "results_log_1 = logit.fit()\n",
    "print(results_log_1.summary())"
   ]
  },
  {
   "cell_type": "markdown",
   "id": "e0df1a01",
   "metadata": {},
   "source": [
    "#### Описание результатов модели:"
   ]
  },
  {
   "cell_type": "markdown",
   "id": "579ad581",
   "metadata": {},
   "source": [
    " *Для того, чтобы понять влияние коэффициентов при независимых переменных на зависимую, необхомо взять экспаненту от значений коэффициента. Ниже представлено уравнение логичстической модели, из которого видно, что отношение вероятностей равно экспоненте от правой стороны уравнения*"
   ]
  },
  {
   "cell_type": "markdown",
   "id": "1b8dc531",
   "metadata": {},
   "source": [
    "$$\n",
    "y = ln(Odds) = ln(\\frac{p}{1 - p}) = \\beta_0 + \\beta_1 \\cdot x_1 + ... + = \\beta_k \\cdot x_k \n",
    "$$  \n",
    "Примечание: Формула взята из записей к семинару по Логистическим моделям"
   ]
  },
  {
   "cell_type": "markdown",
   "id": "9fa6df4c",
   "metadata": {},
   "source": [
    "*Переменные **Age** и **Martial_Status_Bi** не являются значимыми переменными при любых уровнях значимости*"
   ]
  },
  {
   "cell_type": "code",
   "execution_count": 322,
   "id": "9fbcac9b",
   "metadata": {},
   "outputs": [
    {
     "name": "stdout",
     "output_type": "stream",
     "text": [
      "ln(const) = 0.007\n",
      "ln(Income) = 1.0\n",
      "ln(Kidhome) = 0.175\n",
      "ln(Teenhome) = 0.378\n"
     ]
    }
   ],
   "source": [
    "print('ln(const) =', np.exp(-5.0144).round(3))\n",
    "print('ln(Income) =', np.exp(8.984e-05).round(3))\n",
    "print('ln(Kidhome) =', np.exp(-1.7450).round(3))\n",
    "print('ln(Teenhome) =', np.exp(-0.9725).round(3))"
   ]
  },
  {
   "cell_type": "markdown",
   "id": "a6801b9c",
   "metadata": {},
   "source": [
    "*Переменная **Income** практически не влияет на сумму трат*  \n",
    "\n",
    "*Переменная **Kidhome** уменьшает зависимую переменную больше, чем в **5 раз** при наличии детей дома*  \n",
    "\n",
    "*Переменная **Teenhome** уменьшает зависимую переменную больше, чем в **2.5 раза** при наличии подростков дома*  "
   ]
  },
  {
   "cell_type": "markdown",
   "id": "9b2f6664",
   "metadata": {},
   "source": [
    "*В данном случае коэффициент детерминации не будет являться показательным для модели логит.*"
   ]
  },
  {
   "cell_type": "markdown",
   "id": "3ee187cb",
   "metadata": {},
   "source": [
    "*То есть подверженность промо имеет наибольшее положительное влияние на совершение больших покупок*"
   ]
  },
  {
   "cell_type": "markdown",
   "id": "9e1e3297",
   "metadata": {},
   "source": [
    "#### Проверка качества модели:"
   ]
  },
  {
   "cell_type": "markdown",
   "id": "b0017ecc",
   "metadata": {},
   "source": [
    "*Для проверки качества данной логистической модели, определим точность модели (долю правильных ответов)*  "
   ]
  },
  {
   "cell_type": "markdown",
   "id": "0fa339ad",
   "metadata": {},
   "source": [
    "$$\n",
    "accuracy = \\frac{TP + TN}{TP + TN + FP + FN}\n",
    "$$"
   ]
  },
  {
   "cell_type": "code",
   "execution_count": 330,
   "id": "65988891",
   "metadata": {},
   "outputs": [],
   "source": [
    "import sklearn\n",
    "from sklearn import preprocessing\n",
    "from sklearn.linear_model import LogisticRegression\n",
    "from sklearn.model_selection import train_test_split, cross_val_predict\n",
    "from sklearn import metrics\n",
    "from sklearn.metrics import confusion_matrix, plot_confusion_matrix, precision_score, recall_score\n",
    "from sklearn.preprocessing import StandardScaler"
   ]
  },
  {
   "cell_type": "code",
   "execution_count": 371,
   "id": "496586d4",
   "metadata": {},
   "outputs": [],
   "source": [
    "X_log_reg_1 = df_sales_bi_reg[['Income', 'Kidhome', 'Teenhome', 'Age', 'Martial_Status_Bi']]"
   ]
  },
  {
   "cell_type": "code",
   "execution_count": 372,
   "id": "650be9ea",
   "metadata": {},
   "outputs": [],
   "source": [
    "y_log_1 = df_sales_bi_reg.Sales_Bi.values"
   ]
  },
  {
   "cell_type": "code",
   "execution_count": 373,
   "id": "107b710f",
   "metadata": {},
   "outputs": [],
   "source": [
    "X_train_1, X_valid_1, y_train_1, y_valid_1 = train_test_split(X_log_reg_1 , y_log_1, test_size = 0.2, random_state=10)"
   ]
  },
  {
   "cell_type": "code",
   "execution_count": 374,
   "id": "fa01eeb6",
   "metadata": {},
   "outputs": [],
   "source": [
    "X_reg_train_1, X_reg_valid_1, y_reg_train_1, y_reg_valid_1 = train_test_split(X_log_reg_1, y_log_1, test_size = 0.2, random_state=10)"
   ]
  },
  {
   "cell_type": "code",
   "execution_count": 375,
   "id": "7cdbcddc",
   "metadata": {},
   "outputs": [
    {
     "data": {
      "text/plain": [
       "StandardScaler()"
      ]
     },
     "execution_count": 375,
     "metadata": {},
     "output_type": "execute_result"
    }
   ],
   "source": [
    "z_score_scaler = StandardScaler() \n",
    "\n",
    "z_score_scaler.fit(X_train_1)"
   ]
  },
  {
   "cell_type": "code",
   "execution_count": 376,
   "id": "eef60d1d",
   "metadata": {},
   "outputs": [],
   "source": [
    "X_train_scaled_1 = z_score_scaler.transform(X_train_1)\n",
    "X_valid_scaled_1 = z_score_scaler.transform(X_valid_1)"
   ]
  },
  {
   "cell_type": "code",
   "execution_count": 377,
   "id": "12d5c24f",
   "metadata": {},
   "outputs": [],
   "source": [
    "z_score_reg_scaler_1 = StandardScaler()\n",
    "z_score_reg_scaler_1.fit(X_reg_train_1)\n",
    "\n",
    "X_train_reg_scaled_1 = z_score_reg_scaler_1.transform(X_reg_train_1)\n",
    "X_valid_reg_scaled_1 = z_score_reg_scaler_1.transform(X_reg_valid_1)"
   ]
  },
  {
   "cell_type": "code",
   "execution_count": 378,
   "id": "eee5240e",
   "metadata": {},
   "outputs": [
    {
     "data": {
      "text/plain": [
       "LogisticRegression()"
      ]
     },
     "execution_count": 378,
     "metadata": {},
     "output_type": "execute_result"
    }
   ],
   "source": [
    "Log_reg_model_1 = LogisticRegression()\n",
    "\n",
    "Log_reg_dummy_model_1 = LogisticRegression()\n",
    "\n",
    "Log_reg_model_1.fit(X_train_scaled_1, y_train_1)\n",
    "\n",
    "Log_reg_dummy_model_1.fit(X_train_reg_scaled_1, y_reg_train_1)"
   ]
  },
  {
   "cell_type": "code",
   "execution_count": 379,
   "id": "fa6abb2b",
   "metadata": {},
   "outputs": [],
   "source": [
    "y_pred_1 = Log_reg_model_1.predict(X_valid_scaled_1)\n",
    "y_pred_probs_1 = Log_reg_model_1.predict_proba(X_valid_scaled_1)"
   ]
  },
  {
   "cell_type": "code",
   "execution_count": 380,
   "id": "79382e03",
   "metadata": {},
   "outputs": [],
   "source": [
    "y_pred_dummy_1 = Log_reg_dummy_model_1.predict(X_valid_reg_scaled_1)\n",
    "y_pred_probs_dummy_1 = Log_reg_dummy_model_1.predict_proba(X_valid_reg_scaled_1)"
   ]
  },
  {
   "cell_type": "code",
   "execution_count": 381,
   "id": "a530d0d8",
   "metadata": {},
   "outputs": [
    {
     "name": "stdout",
     "output_type": "stream",
     "text": [
      "Accuracy : 0.874\n"
     ]
    }
   ],
   "source": [
    "from sklearn.metrics import accuracy_score, f1_score,\\\n",
    "recall_score, confusion_matrix, plot_confusion_matrix, plot_roc_curve\n",
    "\n",
    "accuracy_score(y_valid_1, y_pred_1)\n",
    "print('Accuracy :', accuracy_score(y_valid_1, y_pred_1).round(3))"
   ]
  },
  {
   "cell_type": "markdown",
   "id": "6139e951",
   "metadata": {},
   "source": [
    "*Доля правильных ответов достаточно высокая (87%), что говорит о качестве модели.*"
   ]
  },
  {
   "cell_type": "markdown",
   "id": "d4e0cfa6",
   "metadata": {},
   "source": [
    "## Логистическая модели Вероятности совершения покупки после просмотра промо от социальных факторов."
   ]
  },
  {
   "cell_type": "markdown",
   "id": "8977c72f",
   "metadata": {},
   "source": [
    "*Как объяснялось ранее из датафрейма удаляются пермеенные, которые могут сместить оценку и снизить ее эффективность  (так как между переменными будет мультиколлинеарность)*"
   ]
  },
  {
   "cell_type": "code",
   "execution_count": 285,
   "id": "63d3c506",
   "metadata": {},
   "outputs": [],
   "source": [
    "df_promo_reg = df.drop(['Sales', 'Education', 'Marital_Status', 'Purchases_Category', 'Income_cat', 'Sales_Bi', 'Purchases', 'log_Income'], axis=1)"
   ]
  },
  {
   "cell_type": "markdown",
   "id": "a7bb045a",
   "metadata": {},
   "source": [
    "*Построим логистическую модель с зависимой перменной **Easy_promo** (1 - клиент совершил покупку после просмотра одного из промо, 0 - в противном случае) и описывающими переменными **Income**, **Kidhome**, **Teenhome**, **Age** и **Martial_Status_Bi**.*"
   ]
  },
  {
   "cell_type": "code",
   "execution_count": 290,
   "id": "882947b3",
   "metadata": {
    "scrolled": true
   },
   "outputs": [
    {
     "name": "stdout",
     "output_type": "stream",
     "text": [
      "Optimization terminated successfully.\n",
      "         Current function value: 0.541864\n",
      "         Iterations 6\n",
      "                           Logit Regression Results                           \n",
      "==============================================================================\n",
      "Dep. Variable:             Easy_promo   No. Observations:                 2216\n",
      "Model:                          Logit   Df Residuals:                     2210\n",
      "Method:                           MLE   Df Model:                            5\n",
      "Date:                Sun, 11 Dec 2022   Pseudo R-squ.:                 0.07569\n",
      "Time:                        22:21:01   Log-Likelihood:                -1200.8\n",
      "converged:                       True   LL-Null:                       -1299.1\n",
      "Covariance Type:            nonrobust   LLR p-value:                 1.480e-40\n",
      "=====================================================================================\n",
      "                        coef    std err          z      P>|z|      [0.025      0.975]\n",
      "-------------------------------------------------------------------------------------\n",
      "const                -1.9486      0.302     -6.448      0.000      -2.541      -1.356\n",
      "Income             2.323e-05   2.82e-06      8.252      0.000    1.77e-05    2.88e-05\n",
      "Kidhome              -0.2348      0.127     -1.843      0.065      -0.484       0.015\n",
      "Teenhome             -0.6711      0.106     -6.306      0.000      -0.880      -0.463\n",
      "Age                   0.0053      0.004      1.195      0.232      -0.003       0.014\n",
      "Martial_Status_Bi    -0.2899      0.103     -2.815      0.005      -0.492      -0.088\n",
      "=====================================================================================\n"
     ]
    }
   ],
   "source": [
    "X_l_2 = sm.add_constant(df_promo_reg.drop('Easy_promo', axis=1))\n",
    "y_l_2 = df_promo_reg['Easy_promo']\n",
    "\n",
    "logit = sm.Logit(y_l_2, X_l_2)\n",
    "results_log_2 = logit.fit()\n",
    "print(results_log_2.summary())"
   ]
  },
  {
   "cell_type": "markdown",
   "id": "51593536",
   "metadata": {},
   "source": [
    "#### Описание результатов модели:"
   ]
  },
  {
   "cell_type": "markdown",
   "id": "2de7db2d",
   "metadata": {},
   "source": [
    "*Так как коэффициенты при независимых переменных - это логарифм отношения вероятностей, то чтобы узнать влияние факторов на зависимую переменную, необходимо взять экспоненту от значений коэффициентов*"
   ]
  },
  {
   "cell_type": "markdown",
   "id": "c6d58739",
   "metadata": {},
   "source": [
    "*Переменные **Age** и **Kidhome** не являются значимыми переменными при любых уровнях значимости*"
   ]
  },
  {
   "cell_type": "code",
   "execution_count": 323,
   "id": "2758cdb9",
   "metadata": {},
   "outputs": [
    {
     "name": "stdout",
     "output_type": "stream",
     "text": [
      "exp(const) = 0.142\n",
      "exp(Income) = 1.0\n",
      "exp(Teenhome) = 0.511\n",
      "exp(Martial_Status_Bi) = 0.748\n"
     ]
    }
   ],
   "source": [
    "print('exp(const) =', np.exp(-1.9486).round(3))\n",
    "print('exp(Income) =', np.exp(2.323e-05).round(3))\n",
    "print('exp(Teenhome) =', np.exp(-0.6711).round(3))\n",
    "print('exp(Martial_Status_Bi) =', np.exp(-0.2899).round(3))"
   ]
  },
  {
   "cell_type": "markdown",
   "id": "6870b330",
   "metadata": {},
   "source": [
    "*Как и в предыдущих моделях, Доход **(Income)** хоть и влияет положительно на зависимую переменную, но имеет довольно слабое влияние*  \n",
    "\n",
    "*Наличие детей **(Kidhome)** и подростков **(Teenhome)** у клиентов же имеют горахдо большее влияние, снижая вероятность того, что клиент будет восприимчив к промо в **2 раза и 1.5 раза соответсвенно**.*"
   ]
  },
  {
   "cell_type": "markdown",
   "id": "421bc024",
   "metadata": {},
   "source": [
    "#### Проверка качества модели:"
   ]
  },
  {
   "cell_type": "markdown",
   "id": "20816561",
   "metadata": {},
   "source": [
    "*Для проверки качества данной логистической модели, определим точность модели (долю правильных ответов)*  "
   ]
  },
  {
   "cell_type": "markdown",
   "id": "822b0e07",
   "metadata": {},
   "source": [
    "$$\n",
    "accuracy = \\frac{TP + TN}{TP + TN + FP + FN}\n",
    "$$"
   ]
  },
  {
   "cell_type": "code",
   "execution_count": 353,
   "id": "19ac87e0",
   "metadata": {},
   "outputs": [],
   "source": [
    "X_log_reg_2 = df_promo_reg[['Income', 'Kidhome', 'Teenhome', 'Age', 'Martial_Status_Bi']]"
   ]
  },
  {
   "cell_type": "code",
   "execution_count": 354,
   "id": "dbd0f18e",
   "metadata": {},
   "outputs": [],
   "source": [
    "y_log_2 = df_promo_reg.Easy_promo.values"
   ]
  },
  {
   "cell_type": "code",
   "execution_count": 356,
   "id": "5b036b59",
   "metadata": {},
   "outputs": [],
   "source": [
    "X_train_2, X_valid_2, y_train_2, y_valid_2 = train_test_split(X_log_reg_2 , y_log_2, test_size = 0.2, random_state=10)"
   ]
  },
  {
   "cell_type": "code",
   "execution_count": 357,
   "id": "fecf5d73",
   "metadata": {},
   "outputs": [],
   "source": [
    "X_reg_train_2, X_reg_valid_2, y_reg_train_2, y_reg_valid_2 = train_test_split(X_log_reg_2, y_log_2, test_size = 0.2, random_state=10)"
   ]
  },
  {
   "cell_type": "code",
   "execution_count": 358,
   "id": "82eaaaa1",
   "metadata": {},
   "outputs": [
    {
     "data": {
      "text/plain": [
       "StandardScaler()"
      ]
     },
     "execution_count": 358,
     "metadata": {},
     "output_type": "execute_result"
    }
   ],
   "source": [
    "z_score_scaler = StandardScaler() \n",
    "\n",
    "z_score_scaler.fit(X_train_2)"
   ]
  },
  {
   "cell_type": "code",
   "execution_count": 361,
   "id": "a4bb1f68",
   "metadata": {},
   "outputs": [],
   "source": [
    "X_train_scaled_2 = z_score_scaler.transform(X_train_2)\n",
    "X_valid_scaled_2 = z_score_scaler.transform(X_valid_2)"
   ]
  },
  {
   "cell_type": "code",
   "execution_count": 359,
   "id": "bcc50ac1",
   "metadata": {},
   "outputs": [],
   "source": [
    "z_score_reg_scaler_2 = StandardScaler()\n",
    "z_score_reg_scaler_2.fit(X_reg_train_2)\n",
    "\n",
    "X_train_reg_scaled_2 = z_score_reg_scaler_2.transform(X_reg_train_2)\n",
    "X_valid_reg_scaled_2 = z_score_reg_scaler_2.transform(X_reg_valid_2)"
   ]
  },
  {
   "cell_type": "code",
   "execution_count": 362,
   "id": "a43dbf93",
   "metadata": {},
   "outputs": [
    {
     "data": {
      "text/plain": [
       "LogisticRegression()"
      ]
     },
     "execution_count": 362,
     "metadata": {},
     "output_type": "execute_result"
    }
   ],
   "source": [
    "Log_reg_model_2 = LogisticRegression()\n",
    "\n",
    "Log_reg_dummy_model_2 = LogisticRegression()\n",
    "\n",
    "Log_reg_model_2.fit(X_train_scaled_2, y_train_2)\n",
    "\n",
    "Log_reg_dummy_model_2.fit(X_train_reg_scaled_2, y_reg_train_2)"
   ]
  },
  {
   "cell_type": "code",
   "execution_count": 363,
   "id": "e0521012",
   "metadata": {},
   "outputs": [],
   "source": [
    "y_pred_2 = Log_reg_model_2.predict(X_valid_scaled_2)\n",
    "y_pred_probs_2 = Log_reg_model_2.predict_proba(X_valid_scaled_2)"
   ]
  },
  {
   "cell_type": "code",
   "execution_count": 364,
   "id": "119cb589",
   "metadata": {},
   "outputs": [],
   "source": [
    "y_pred_dummy_2 = Log_reg_dummy_model_2.predict(X_valid_reg_scaled_2)\n",
    "y_pred_probs_dummy_2 = Log_reg_dummy_model_2.predict_proba(X_valid_reg_scaled_2)"
   ]
  },
  {
   "cell_type": "code",
   "execution_count": 369,
   "id": "8db7e2c3",
   "metadata": {},
   "outputs": [
    {
     "name": "stdout",
     "output_type": "stream",
     "text": [
      "Accuracy : 0.752\n"
     ]
    }
   ],
   "source": [
    "from sklearn.metrics import accuracy_score, f1_score,\\\n",
    "recall_score, confusion_matrix, plot_confusion_matrix, plot_roc_curve\n",
    "\n",
    "accuracy_score(y_valid_2, y_pred_2)\n",
    "print('Accuracy :', accuracy_score(y_valid_2, y_pred_2).round(3))"
   ]
  },
  {
   "cell_type": "markdown",
   "id": "ca5a1632",
   "metadata": {},
   "source": [
    "*Точность данной модели ниже, чем в предыдущей, и составляет 75%. Однако данный показатель все еще высокий*"
   ]
  },
  {
   "cell_type": "markdown",
   "id": "8000fc31",
   "metadata": {},
   "source": [
    "# Выводы:"
   ]
  },
  {
   "cell_type": "markdown",
   "id": "18ff48b6",
   "metadata": {},
   "source": [
    "*Из всех получившихся моделей можно сделать вывод, что возраст **(Age)** клиента **не влияент ни на сумму и количество покупок, ни на восприимчивость к промоакциям**.*  \n",
    "\n",
    "*Наличие же партнера у клиента **(Martial_Status_Bi)** имеет статистическую значимость лишь в логистической модели восприимчивости клиента к промоакциям, где наличие партнера **снижает вероятность того, что клиент совершит покупку после просмотра промо**.*  \n",
    "\n",
    "*Для всех моделей характерно **увеличение зависимой переменной при увеличении Дохода**. Однако во всех моделях Доход имеет малое влияние.*  \n",
    "\n",
    "*Наличие детей **(Kidhome)** и подростков **(Teenhome)** в домохозяйстве **негативно сказывается почти на все зависимые перемнные** кроме количества покупок, где наличие подростков увеличивает число покупок.*  \n",
    "\n",
    "*Таким образом, на основе данного исследования, можно построить партрет **идеального клиента** в глазах производителей: **человек любого возраста (от 18 лет) без детей (в том числе и подростков) и без партнера**. Дети и подростки снижают средний чек для рассматриваемых производителей, партнер же у клиента снижает восприимчивость к промоакциям (что является одной из важных характеристик идеального клиента).* "
   ]
  },
  {
   "cell_type": "code",
   "execution_count": null,
   "id": "c042ec15",
   "metadata": {},
   "outputs": [],
   "source": []
  }
 ],
 "metadata": {
  "kernelspec": {
   "display_name": "Python 3 (ipykernel)",
   "language": "python",
   "name": "python3"
  },
  "language_info": {
   "codemirror_mode": {
    "name": "ipython",
    "version": 3
   },
   "file_extension": ".py",
   "mimetype": "text/x-python",
   "name": "python",
   "nbconvert_exporter": "python",
   "pygments_lexer": "ipython3",
   "version": "3.9.12"
  }
 },
 "nbformat": 4,
 "nbformat_minor": 5
}
